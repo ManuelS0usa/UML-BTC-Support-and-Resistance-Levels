{
 "cells": [
  {
   "cell_type": "code",
   "execution_count": 7,
   "metadata": {
    "collapsed": true
   },
   "outputs": [
    {
     "data": {
      "text/plain": "                  id     price  quantity  firstTrade   lastTrade  \\\n0         1056110212  38439.04     1.179  1881333504  1881333513   \n1         1056110213  38439.05     0.007  1881333514  1881333517   \n2         1056110214  38439.04     0.044  1881333518  1881333519   \n3         1056110215  38439.05     0.013  1881333520  1881333523   \n4         1056110216  38439.04     0.525  1881333524  1881333524   \n...              ...       ...       ...         ...         ...   \n52823150  1108933362  43159.10     0.004  1987119081  1987119081   \n52823151  1108933363  43158.10     0.261  1987119082  1987119084   \n52823152  1108933364  43158.00     0.145  1987119085  1987119089   \n52823153  1108933365  43155.90     0.001  1987119090  1987119090   \n52823154  1108933366  43155.00     0.002  1987119091  1987119092   \n\n                       timestamp  buyer  \n0        2022-02-01 00:00:00.077   True  \n1        2022-02-01 00:00:00.149  False  \n2        2022-02-01 00:00:02.791   True  \n3        2022-02-01 00:00:02.814  False  \n4        2022-02-01 00:00:02.818   True  \n...                          ...    ...  \n52823150 2022-02-28 23:59:59.921   True  \n52823151 2022-02-28 23:59:59.921   True  \n52823152 2022-02-28 23:59:59.921   True  \n52823153 2022-02-28 23:59:59.950   True  \n52823154 2022-02-28 23:59:59.970   True  \n\n[52823155 rows x 7 columns]",
      "text/html": "<div>\n<style scoped>\n    .dataframe tbody tr th:only-of-type {\n        vertical-align: middle;\n    }\n\n    .dataframe tbody tr th {\n        vertical-align: top;\n    }\n\n    .dataframe thead th {\n        text-align: right;\n    }\n</style>\n<table border=\"1\" class=\"dataframe\">\n  <thead>\n    <tr style=\"text-align: right;\">\n      <th></th>\n      <th>id</th>\n      <th>price</th>\n      <th>quantity</th>\n      <th>firstTrade</th>\n      <th>lastTrade</th>\n      <th>timestamp</th>\n      <th>buyer</th>\n    </tr>\n  </thead>\n  <tbody>\n    <tr>\n      <th>0</th>\n      <td>1056110212</td>\n      <td>38439.04</td>\n      <td>1.179</td>\n      <td>1881333504</td>\n      <td>1881333513</td>\n      <td>2022-02-01 00:00:00.077</td>\n      <td>True</td>\n    </tr>\n    <tr>\n      <th>1</th>\n      <td>1056110213</td>\n      <td>38439.05</td>\n      <td>0.007</td>\n      <td>1881333514</td>\n      <td>1881333517</td>\n      <td>2022-02-01 00:00:00.149</td>\n      <td>False</td>\n    </tr>\n    <tr>\n      <th>2</th>\n      <td>1056110214</td>\n      <td>38439.04</td>\n      <td>0.044</td>\n      <td>1881333518</td>\n      <td>1881333519</td>\n      <td>2022-02-01 00:00:02.791</td>\n      <td>True</td>\n    </tr>\n    <tr>\n      <th>3</th>\n      <td>1056110215</td>\n      <td>38439.05</td>\n      <td>0.013</td>\n      <td>1881333520</td>\n      <td>1881333523</td>\n      <td>2022-02-01 00:00:02.814</td>\n      <td>False</td>\n    </tr>\n    <tr>\n      <th>4</th>\n      <td>1056110216</td>\n      <td>38439.04</td>\n      <td>0.525</td>\n      <td>1881333524</td>\n      <td>1881333524</td>\n      <td>2022-02-01 00:00:02.818</td>\n      <td>True</td>\n    </tr>\n    <tr>\n      <th>...</th>\n      <td>...</td>\n      <td>...</td>\n      <td>...</td>\n      <td>...</td>\n      <td>...</td>\n      <td>...</td>\n      <td>...</td>\n    </tr>\n    <tr>\n      <th>52823150</th>\n      <td>1108933362</td>\n      <td>43159.10</td>\n      <td>0.004</td>\n      <td>1987119081</td>\n      <td>1987119081</td>\n      <td>2022-02-28 23:59:59.921</td>\n      <td>True</td>\n    </tr>\n    <tr>\n      <th>52823151</th>\n      <td>1108933363</td>\n      <td>43158.10</td>\n      <td>0.261</td>\n      <td>1987119082</td>\n      <td>1987119084</td>\n      <td>2022-02-28 23:59:59.921</td>\n      <td>True</td>\n    </tr>\n    <tr>\n      <th>52823152</th>\n      <td>1108933364</td>\n      <td>43158.00</td>\n      <td>0.145</td>\n      <td>1987119085</td>\n      <td>1987119089</td>\n      <td>2022-02-28 23:59:59.921</td>\n      <td>True</td>\n    </tr>\n    <tr>\n      <th>52823153</th>\n      <td>1108933365</td>\n      <td>43155.90</td>\n      <td>0.001</td>\n      <td>1987119090</td>\n      <td>1987119090</td>\n      <td>2022-02-28 23:59:59.950</td>\n      <td>True</td>\n    </tr>\n    <tr>\n      <th>52823154</th>\n      <td>1108933366</td>\n      <td>43155.00</td>\n      <td>0.002</td>\n      <td>1987119091</td>\n      <td>1987119092</td>\n      <td>2022-02-28 23:59:59.970</td>\n      <td>True</td>\n    </tr>\n  </tbody>\n</table>\n<p>52823155 rows × 7 columns</p>\n</div>"
     },
     "execution_count": 7,
     "metadata": {},
     "output_type": "execute_result"
    }
   ],
   "source": [
    "import pandas as pd\n",
    "\n",
    "columns = ['id', 'price', 'quantity', 'firstTrade', 'lastTrade', 'timestamp', 'buyer']\n",
    "\n",
    "df = pd.read_csv('BTCUSDT-aggTrades-2022-02.csv', names=columns)\n",
    "df['timestamp'] = pd.to_datetime(df.timestamp, unit='ms')\n",
    "df"
   ]
  },
  {
   "cell_type": "code",
   "execution_count": 36,
   "outputs": [],
   "source": [
    "test = df.copy()\n",
    "test_buyer = test[test['buyer'] == True]"
   ],
   "metadata": {
    "collapsed": false,
    "pycharm": {
     "name": "#%%\n"
    }
   }
  },
  {
   "cell_type": "code",
   "execution_count": 40,
   "outputs": [
    {
     "data": {
      "text/plain": "               timestamp         price   quantity\n0    2022-02-01 00:00:00  38415.846457   3298.808\n1    2022-02-01 00:30:00  38320.781080   1789.691\n2    2022-02-01 01:00:00  38319.890293   1001.749\n3    2022-02-01 01:30:00  38230.456040   2183.805\n4    2022-02-01 02:00:00  38289.882291   1262.179\n...                  ...           ...        ...\n1339 2022-02-28 21:30:00  41568.520935   2552.553\n1340 2022-02-28 22:00:00  41784.363040   3290.055\n1341 2022-02-28 22:30:00  43466.902766  26828.941\n1342 2022-02-28 23:00:00  43089.937380   9462.118\n1343 2022-02-28 23:30:00  43154.628036   3983.272\n\n[1344 rows x 3 columns]",
      "text/html": "<div>\n<style scoped>\n    .dataframe tbody tr th:only-of-type {\n        vertical-align: middle;\n    }\n\n    .dataframe tbody tr th {\n        vertical-align: top;\n    }\n\n    .dataframe thead th {\n        text-align: right;\n    }\n</style>\n<table border=\"1\" class=\"dataframe\">\n  <thead>\n    <tr style=\"text-align: right;\">\n      <th></th>\n      <th>timestamp</th>\n      <th>price</th>\n      <th>quantity</th>\n    </tr>\n  </thead>\n  <tbody>\n    <tr>\n      <th>0</th>\n      <td>2022-02-01 00:00:00</td>\n      <td>38415.846457</td>\n      <td>3298.808</td>\n    </tr>\n    <tr>\n      <th>1</th>\n      <td>2022-02-01 00:30:00</td>\n      <td>38320.781080</td>\n      <td>1789.691</td>\n    </tr>\n    <tr>\n      <th>2</th>\n      <td>2022-02-01 01:00:00</td>\n      <td>38319.890293</td>\n      <td>1001.749</td>\n    </tr>\n    <tr>\n      <th>3</th>\n      <td>2022-02-01 01:30:00</td>\n      <td>38230.456040</td>\n      <td>2183.805</td>\n    </tr>\n    <tr>\n      <th>4</th>\n      <td>2022-02-01 02:00:00</td>\n      <td>38289.882291</td>\n      <td>1262.179</td>\n    </tr>\n    <tr>\n      <th>...</th>\n      <td>...</td>\n      <td>...</td>\n      <td>...</td>\n    </tr>\n    <tr>\n      <th>1339</th>\n      <td>2022-02-28 21:30:00</td>\n      <td>41568.520935</td>\n      <td>2552.553</td>\n    </tr>\n    <tr>\n      <th>1340</th>\n      <td>2022-02-28 22:00:00</td>\n      <td>41784.363040</td>\n      <td>3290.055</td>\n    </tr>\n    <tr>\n      <th>1341</th>\n      <td>2022-02-28 22:30:00</td>\n      <td>43466.902766</td>\n      <td>26828.941</td>\n    </tr>\n    <tr>\n      <th>1342</th>\n      <td>2022-02-28 23:00:00</td>\n      <td>43089.937380</td>\n      <td>9462.118</td>\n    </tr>\n    <tr>\n      <th>1343</th>\n      <td>2022-02-28 23:30:00</td>\n      <td>43154.628036</td>\n      <td>3983.272</td>\n    </tr>\n  </tbody>\n</table>\n<p>1344 rows × 3 columns</p>\n</div>"
     },
     "execution_count": 40,
     "metadata": {},
     "output_type": "execute_result"
    }
   ],
   "source": [
    "test_buyer.resample('30min', on='timestamp').agg(\n",
    "    {'price': 'mean', 'quantity': 'sum'}).reset_index()"
   ],
   "metadata": {
    "collapsed": false,
    "pycharm": {
     "name": "#%%\n"
    }
   }
  },
  {
   "cell_type": "code",
   "execution_count": null,
   "outputs": [],
   "source": [],
   "metadata": {
    "collapsed": false,
    "pycharm": {
     "name": "#%%\n"
    }
   }
  }
 ],
 "metadata": {
  "kernelspec": {
   "display_name": "Python 3",
   "language": "python",
   "name": "python3"
  },
  "language_info": {
   "codemirror_mode": {
    "name": "ipython",
    "version": 2
   },
   "file_extension": ".py",
   "mimetype": "text/x-python",
   "name": "python",
   "nbconvert_exporter": "python",
   "pygments_lexer": "ipython2",
   "version": "2.7.6"
  }
 },
 "nbformat": 4,
 "nbformat_minor": 0
}